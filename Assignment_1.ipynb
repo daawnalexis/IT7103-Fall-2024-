{
  "nbformat": 4,
  "nbformat_minor": 0,
  "metadata": {
    "colab": {
      "provenance": [],
      "name": "Assignment 1"
    },
    "kernelspec": {
      "name": "python3",
      "display_name": "Python 3"
    },
    "language_info": {
      "name": "python"
    }
  },
  "cells": [
    {
      "cell_type": "code",
      "execution_count": 1,
      "metadata": {
        "colab": {
          "base_uri": "https://localhost:8080/"
        },
        "id": "w2EGQqzbUxuQ",
        "outputId": "b99fe8da-63bf-4aef-ceda-5af15e5cd939"
      },
      "outputs": [
        {
          "output_type": "stream",
          "name": "stdout",
          "text": [
            "Employee Rating Data Types:\n",
            "EmployeeNumber,Department,EnvironmentSatisfaction,JobRole,PerformanceRating,YearsAtCompany,YearsInCurrentRole,MonthlyIncome    object\n",
            "dtype: object\n",
            "\n",
            "Employee General Data Types:\n",
            "EmployeeNumber     int64\n",
            "Education         object\n",
            "EducationField    object\n",
            "MaritalStatus     object\n",
            "dtype: object\n",
            "\n",
            "Employee Rating Unique Values:\n",
            "EmployeeNumber,Department,EnvironmentSatisfaction,JobRole,PerformanceRating,YearsAtCompany,YearsInCurrentRole,MonthlyIncome: ['1,Sales,Medium,Sales Executive,Excellent,6,4,5993'\n",
            " '2,Research & Development,High,Research Scientist,Outstanding,10,7,5130'\n",
            " '4,Research & Development,Very High,Laboratory Technician,Excellent,0,0,2090'\n",
            " ...\n",
            " '2064,Research & Development,Medium,Manufacturing Director,Outstanding,6,2,6142'\n",
            " '2065,Sales,Very High,Sales Executive,Excellent,9,6,5390'\n",
            " '2068,Research & Development,Medium,Laboratory Technician,Excellent,4,3,4404']\n",
            "\n",
            "Employee General Unique Values:\n",
            "Education: ['College' 'Below College' 'Master' 'Bachelor' 'Doctor']\n",
            "EducationField: ['Life Sciences' 'Other' 'Medical' 'Marketing' 'Technical Degree'\n",
            " 'Human Resources']\n",
            "MaritalStatus: ['Single' 'Married' 'Divorced']\n",
            "Column 'MonthlyIncome' not found in employee_rating DataFrame.\n",
            "Column 'JobRole' not found in DataFrame.\n",
            "Column 'Department' not found in DataFrame.\n",
            "\n",
            "Employee Rating Columns:\n",
            "Index(['EmployeeNumber,Department,EnvironmentSatisfaction,JobRole,PerformanceRating,YearsAtCompany,YearsInCurrentRole,MonthlyIncome'], dtype='object')\n",
            "\n",
            "Employee General Columns:\n",
            "Index(['EmployeeNumber', 'Education', 'EducationField', 'MaritalStatus'], dtype='object')\n",
            "Columns 'Employee ID' or 'EmployeeNumber' not found. Please check the column names.\n"
          ]
        }
      ],
      "source": [
        "import pandas as pd\n",
        "import numpy as np\n",
        "\n",
        "try:\n",
        "    employee_rating = pd.read_csv('employee_rating.csv', sep='|')\n",
        "    employee_general = pd.read_csv('employee_general.csv', sep='|')\n",
        "except FileNotFoundError as e:\n",
        "    print(f\"File not found: {e}\")\n",
        "    exit()\n",
        "\n",
        "print(\"Employee Rating Data Types:\")\n",
        "print(employee_rating.dtypes)\n",
        "\n",
        "print(\"\\nEmployee General Data Types:\")\n",
        "print(employee_general.dtypes)\n",
        "\n",
        "print(\"\\nEmployee Rating Unique Values:\")\n",
        "for col in employee_rating.select_dtypes(include=['object']).columns:\n",
        "    print(f\"{col}: {employee_rating[col].unique()}\")\n",
        "\n",
        "print(\"\\nEmployee General Unique Values:\")\n",
        "for col in employee_general.select_dtypes(include=['object']).columns:\n",
        "    print(f\"{col}: {employee_general[col].unique()}\")\n",
        "\n",
        "if 'MonthlyIncome' in employee_rating.columns:\n",
        "    employee_rating['log_income'] = np.log(employee_rating['MonthlyIncome'] + 1)\n",
        "else:\n",
        "    print(\"Column 'MonthlyIncome' not found in employee_rating DataFrame.\")\n",
        "\n",
        "def map_categories(df, column, mapping):\n",
        "    if column in df.columns:\n",
        "        if df[column].dtype == 'object':\n",
        "            df[column] = df[column].map(mapping).astype(pd.Int64Dtype())\n",
        "        else:\n",
        "            print(f\"Column '{column}' is not of type 'object'.\")\n",
        "    else:\n",
        "        print(f\"Column '{column}' not found in DataFrame.\")\n",
        "\n",
        "mapping_job_role = {'Manager': 1, 'Engineer': 2, 'Analyst': 3}\n",
        "map_categories(employee_rating, 'JobRole', mapping_job_role)\n",
        "\n",
        "mapping_department = {'Sales': 1, 'HR': 2, 'IT': 3}\n",
        "map_categories(employee_general, 'Department', mapping_department)\n",
        "\n",
        "print(\"\\nEmployee Rating Columns:\")\n",
        "print(employee_rating.columns)\n",
        "print(\"\\nEmployee General Columns:\")\n",
        "print(employee_general.columns)\n",
        "\n",
        "if 'Employee ID' in employee_rating.columns and 'EmployeeNumber' in employee_general.columns:\n",
        "    print(\"\\nSample data for 'Employee ID':\")\n",
        "    print(employee_rating['Employee ID'].head())\n",
        "\n",
        "    print(\"\\nSample data for 'EmployeeNumber':\")\n",
        "    print(employee_general['EmployeeNumber'].head())\n",
        "\n",
        "    merged_df = pd.merge(employee_rating, employee_general, left_on='Employee ID', right_on='EmployeeNumber', how='inner')\n",
        "\n",
        "    print(\"\\nMerged DataFrame:\")\n",
        "    print(merged_df.head())\n",
        "else:\n",
        "    print(\"Columns 'Employee ID' or 'EmployeeNumber' not found. Please check the column names.\")"
      ]
    }
  ]
}